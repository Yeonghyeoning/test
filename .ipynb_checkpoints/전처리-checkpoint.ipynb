{
 "cells": [
  {
   "cell_type": "code",
   "execution_count": 5,
   "id": "b6d2d338-751b-4ee3-82ea-733aef67d6e1",
   "metadata": {},
   "outputs": [
    {
     "name": "stdout",
     "output_type": "stream",
     "text": [
      "Requirement already satisfied: konlpy in c:\\users\\un991\\anaconda3\\lib\\site-packages (0.6.0)\n",
      "Requirement already satisfied: JPype1>=0.7.0 in c:\\users\\un991\\anaconda3\\lib\\site-packages (from konlpy) (1.5.0)\n",
      "Requirement already satisfied: lxml>=4.1.0 in c:\\users\\un991\\anaconda3\\lib\\site-packages (from konlpy) (4.9.3)\n",
      "Requirement already satisfied: numpy>=1.6 in c:\\users\\un991\\anaconda3\\lib\\site-packages (from konlpy) (1.26.4)\n",
      "Requirement already satisfied: packaging in c:\\users\\un991\\anaconda3\\lib\\site-packages (from JPype1>=0.7.0->konlpy) (24.1)\n"
     ]
    }
   ],
   "source": [
    "!pip install konlpy"
   ]
  },
  {
   "cell_type": "code",
   "execution_count": 5,
   "id": "77f5f4a7-ab37-44c5-8aff-2e564fca6022",
   "metadata": {},
   "outputs": [
    {
     "name": "stdout",
     "output_type": "stream",
     "text": [
      "['광택', '무광', '이', '에요', '지', '속력', '지속', '이', '오래', '되', '어요', '사용', '감', '아주', '만족', '하', '아요']\n"
     ]
    }
   ],
   "source": [
    "from konlpy.tag import Komoran\n",
    "komoran = Komoran()\n",
    "print(komoran.morphs('광택 무광이에요 지속력 지속이 오래돼요 사용감 아주 만족해요'))"
   ]
  },
  {
   "cell_type": "code",
   "execution_count": 6,
   "id": "a4e4b632-80c3-4421-965a-974eb48182ce",
   "metadata": {},
   "outputs": [
    {
     "name": "stdout",
     "output_type": "stream",
     "text": [
      "[('광택', 'NNP'), ('무광', 'NNG'), ('이', 'VCP'), ('에요', 'EC'), ('지', 'NNB'), ('속력', 'NNP'), ('지속', 'NNG'), ('이', 'JKS'), ('오래', 'MAG'), ('되', 'XSV'), ('어요', 'EC'), ('사용', 'NNG'), ('감', 'NNG'), ('아주', 'MAG'), ('만족', 'NNG'), ('하', 'XSV'), ('아요', 'EC')]\n"
     ]
    }
   ],
   "source": [
    "print(komoran.pos('광택 무광이에요 지속력 지속이 오래돼요 사용감 아주 만족해요'))"
   ]
  },
  {
   "cell_type": "code",
   "execution_count": 19,
   "id": "a2495f54-2be3-4979-8ebb-1ffbc49804be",
   "metadata": {},
   "outputs": [],
   "source": [
    "import pandas as pd"
   ]
  },
  {
   "cell_type": "code",
   "execution_count": 16,
   "id": "fc191663-915a-43df-bd31-01a234da653e",
   "metadata": {},
   "outputs": [],
   "source": [
    "import ast\n",
    "df['상품 특징'] = df['상품 특징'].apply(literal_eval)"
   ]
  },
  {
   "cell_type": "code",
   "execution_count": null,
   "id": "931c0f9a-b834-404a-bdf4-d05583498391",
   "metadata": {},
   "outputs": [],
   "source": []
  }
 ],
 "metadata": {
  "kernelspec": {
   "display_name": "Python 3 (ipykernel)",
   "language": "python",
   "name": "python3"
  },
  "language_info": {
   "codemirror_mode": {
    "name": "ipython",
    "version": 3
   },
   "file_extension": ".py",
   "mimetype": "text/x-python",
   "name": "python",
   "nbconvert_exporter": "python",
   "pygments_lexer": "ipython3",
   "version": "3.11.7"
  }
 },
 "nbformat": 4,
 "nbformat_minor": 5
}
